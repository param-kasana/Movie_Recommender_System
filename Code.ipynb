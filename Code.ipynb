{
 "cells": [
  {
   "cell_type": "markdown",
   "metadata": {},
   "source": [
    "## Import Necessary Libs"
   ]
  },
  {
   "cell_type": "code",
   "execution_count": 1,
   "metadata": {},
   "outputs": [],
   "source": [
    "import pandas as pd\n",
    "import numpy as np\n",
    "import random\n",
    "from surprise import Dataset, Reader\n",
    "from surprise import KNNBasic, KNNBaseline\n",
    "from sklearn.metrics import average_precision_score, ndcg_score\n",
    "import matplotlib.pyplot as plt\n",
    "import warnings\n",
    "warnings.filterwarnings('ignore')"
   ]
  },
  {
   "cell_type": "markdown",
   "metadata": {},
   "source": [
    "## Load Dataset"
   ]
  },
  {
   "cell_type": "code",
   "execution_count": 2,
   "metadata": {
    "id": "Qykq4YuQtZUS"
   },
   "outputs": [],
   "source": [
    "ratings_df = pd.read_csv('ratings.dat', sep='::', engine='python', names=['user_id', 'movie_id', 'rating', 'timestamp'])\n",
    "ratings_df = ratings_df.drop(columns=['timestamp'])"
   ]
  },
  {
   "cell_type": "code",
   "execution_count": 3,
   "metadata": {},
   "outputs": [],
   "source": [
    "# To avoid division by zero in the equations used later\n",
    "EPSILON = 1e-9"
   ]
  },
  {
   "cell_type": "markdown",
   "metadata": {},
   "source": [
    "# Task 1: User-based Collaborative Filtering\n"
   ]
  },
  {
   "cell_type": "code",
   "execution_count": 4,
   "metadata": {},
   "outputs": [
    {
     "name": "stdout",
     "output_type": "stream",
     "text": [
      "Target User ID: 3178\n",
      "\n",
      "Number of Neighbors (k): 2\n",
      "Root Mean Squared Error (RMSE): 0.6359\n",
      "\n",
      "\n",
      "Number of Neighbors (k): 5\n",
      "Root Mean Squared Error (RMSE): 0.7938\n",
      "\n",
      "\n",
      "Number of Neighbors (k): 10\n",
      "Root Mean Squared Error (RMSE): 0.8846\n",
      "\n",
      "\n",
      "Number of Neighbors (k): 20\n",
      "Root Mean Squared Error (RMSE): 0.9552\n",
      "\n",
      "\n",
      "Number of Neighbors (k): 50\n",
      "Root Mean Squared Error (RMSE): 1.0155\n",
      "\n",
      "\n"
     ]
    }
   ],
   "source": [
    "# Randomly select a user to reserve for testing\n",
    "unique_users = ratings_df['user_id'].unique()\n",
    "target_user = random.choice(unique_users)\n",
    "print(f'Target User ID: {target_user}\\n')\n",
    "\n",
    "# Get the list of movies that the target user has rated\n",
    "target_user_rated_movies = ratings_df[(ratings_df['user_id'] == target_user)][['movie_id', 'rating']].values\n",
    "\n",
    "recommendations = []\n",
    "actual_ratings = []\n",
    "\n",
    "# Define the Reader object for Surprise\n",
    "reader = Reader(rating_scale=(1, 5))  \n",
    "\n",
    "# Load the data into Surprise's Dataset object\n",
    "load_data = Dataset.load_from_df(ratings_df[['user_id', 'movie_id', 'rating']], reader)\n",
    "\n",
    "# Make Train data set\n",
    "train_data = load_data.build_full_trainset()\n",
    "\n",
    "# Similarity measure configuration\n",
    "sim_options = {'name': 'cosine', 'user_based': True}\n",
    "\n",
    "# Define a list of k values to test\n",
    "k_values = [2, 5, 10, 20, 50]\n",
    "\n",
    "for k in k_values:\n",
    "    # Create a user-based collaborative filtering model with the current k\n",
    "    model = KNNBasic(k=k, sim_options=sim_options, verbose=False)\n",
    "\n",
    "    # Fit the model on the training data\n",
    "    model.fit(train_data)\n",
    "\n",
    "    # Generate recommendations for the rated movies of the target user\n",
    "    for movie_id, actual_rating in target_user_rated_movies:\n",
    "        estimated_rating = model.predict(target_user, movie_id).est\n",
    "        recommendations.append(estimated_rating)\n",
    "        actual_ratings.append(actual_rating)\n",
    "\n",
    "    # Calculate RMSE for this user and the current k\n",
    "    rmse = np.sqrt((sum([(actual - estimated) ** 2 for actual, estimated in zip(actual_ratings, recommendations)])) / (len(recommendations) + EPSILON))\n",
    " \n",
    "    # Print the k and RMSE\n",
    "    print(f'Number of Neighbors (k): {k}')\n",
    "    print(f'Root Mean Squared Error (RMSE): {rmse:.4f}')\n",
    "    print('\\n')"
   ]
  },
  {
   "cell_type": "markdown",
   "metadata": {
    "id": "r-i5aIqXpPbu"
   },
   "source": [
    "# Task 2: Item-based Filtering"
   ]
  },
  {
   "cell_type": "markdown",
   "metadata": {},
   "source": [
    "## Mean Squared Difference Similarity"
   ]
  },
  {
   "cell_type": "code",
   "execution_count": 5,
   "metadata": {},
   "outputs": [],
   "source": [
    "# Randomly select a user to reserve for testing\n",
    "unique_movies = ratings_df['movie_id'].unique()\n",
    "target_movie = random.choice(unique_movies)\n",
    "\n",
    "# Get the list of users who have rated the chosen item\n",
    "users_rated_target_movie = ratings_df[ratings_df['movie_id'] == target_movie]['user_id'].unique()\n",
    "\n",
    "recommendations = []\n",
    "actual_ratings = []\n",
    "\n",
    "# Define the Reader object for Surprise\n",
    "reader = Reader(rating_scale=(1, 5))  \n",
    "\n",
    "# Load the data into Surprise's Dataset object\n",
    "load_data = Dataset.load_from_df(ratings_df[['user_id', 'movie_id', 'rating']], reader)\n",
    "\n",
    "# Make Train data set\n",
    "train_data = load_data.build_full_trainset()"
   ]
  },
  {
   "cell_type": "code",
   "execution_count": 6,
   "metadata": {},
   "outputs": [],
   "source": [
    "# Similarity measure configuration\n",
    "sim_options = {'name': 'msd', 'user_based': False}\n",
    "\n",
    "# Create an item-based collaborative filtering model \n",
    "model = KNNBasic(k=5, sim_options=sim_options, verbose=False)\n",
    "\n",
    "# Fit the model on the training data\n",
    "model.fit(train_data)\n",
    "\n",
    "# Generate recommendations for the users who rated the chosen item\n",
    "for user_id in users_rated_target_movie:\n",
    "    estimated_rating = model.predict(user_id, target_movie).est\n",
    "    recommendations.append(estimated_rating)\n",
    "    actual_rating = ratings_df[(ratings_df['user_id'] == user_id) & (ratings_df['movie_id'] == target_movie)]['rating'].values[0]\n",
    "    actual_ratings.append(actual_rating)\n",
    "\n",
    "# Calculate RMSE for the users who rated the chosen item\n",
    "rmse_msd = np.sqrt((sum([(actual - estimated) ** 2 for actual, estimated in zip(actual_ratings, recommendations)])) / (len(recommendations) + EPSILON))\n"
   ]
  },
  {
   "cell_type": "markdown",
   "metadata": {},
   "source": [
    "## Pearson Similarity"
   ]
  },
  {
   "cell_type": "code",
   "execution_count": 7,
   "metadata": {},
   "outputs": [],
   "source": [
    "# Similarity measure configuration\n",
    "sim_options = {'name': 'pearson', 'user_based': False}\n",
    "\n",
    "# Create an item-based collaborative filtering model \n",
    "model = KNNBasic(k=5, sim_options=sim_options, verbose=False)\n",
    "\n",
    "# Fit the model on the training data\n",
    "model.fit(train_data)\n",
    "\n",
    "# Generate recommendations for the users who rated the chosen item\n",
    "for user_id in users_rated_target_movie:\n",
    "    estimated_rating = model.predict(user_id, target_movie).est\n",
    "    recommendations.append(estimated_rating)\n",
    "    actual_rating = ratings_df[(ratings_df['user_id'] == user_id) & (ratings_df['movie_id'] == target_movie)]['rating'].values[0]\n",
    "    actual_ratings.append(actual_rating)\n",
    "\n",
    "# Calculate RMSE for the users who rated the chosen item\n",
    "rmse_pearson = np.sqrt((sum([(actual - estimated) ** 2 for actual, estimated in zip(actual_ratings, recommendations)])) / (len(recommendations) + EPSILON))\n"
   ]
  },
  {
   "cell_type": "code",
   "execution_count": 8,
   "metadata": {},
   "outputs": [
    {
     "name": "stdout",
     "output_type": "stream",
     "text": [
      "RMSE for MSD similarity: 0.4336\n",
      "RMSE for Pearson similarity: 0.5485\n"
     ]
    }
   ],
   "source": [
    "print(f'RMSE for MSD similarity: {rmse_msd:.4f}')\n",
    "print(f'RMSE for Pearson similarity: {rmse_pearson:.4f}')"
   ]
  },
  {
   "cell_type": "markdown",
   "metadata": {
    "id": "r-i5aIqXpPbu"
   },
   "source": [
    "# Task 3: A Better Recommender System"
   ]
  },
  {
   "cell_type": "markdown",
   "metadata": {},
   "source": [
    "### Task 3.1 - Option1RecSys"
   ]
  },
  {
   "cell_type": "code",
   "execution_count": 9,
   "metadata": {},
   "outputs": [
    {
     "name": "stdout",
     "output_type": "stream",
     "text": [
      "Target User ID: 1424\n",
      "\n",
      "Number of Neighbors (k): 2\n",
      "Root Mean Squared Error (RMSE): 0.2154\n",
      "\n",
      "\n",
      "Number of Neighbors (k): 5\n",
      "Root Mean Squared Error (RMSE): 0.3135\n",
      "\n",
      "\n",
      "Number of Neighbors (k): 10\n",
      "Root Mean Squared Error (RMSE): 0.4025\n",
      "\n",
      "\n",
      "Number of Neighbors (k): 20\n",
      "Root Mean Squared Error (RMSE): 0.4857\n",
      "\n",
      "\n",
      "Number of Neighbors (k): 50\n",
      "Root Mean Squared Error (RMSE): 0.5493\n",
      "\n",
      "\n"
     ]
    }
   ],
   "source": [
    "# Randomly select a user to reserve for testing\n",
    "unique_users = ratings_df['user_id'].unique()\n",
    "target_user = random.choice(unique_users)\n",
    "print(f'Target User ID: {target_user}\\n')\n",
    "\n",
    "# Get the list of movies that the target user has rated\n",
    "target_user_rated_movies = ratings_df[(ratings_df['user_id'] == target_user)][['movie_id', 'rating']].values\n",
    "\n",
    "recommendations = []\n",
    "actual_ratings = []\n",
    "\n",
    "# Define the Reader object for Surprise\n",
    "reader = Reader(rating_scale=(1, 5))  \n",
    "\n",
    "# Load the data into Surprise's Dataset object\n",
    "load_data = Dataset.load_from_df(ratings_df[['user_id', 'movie_id', 'rating']], reader)\n",
    "\n",
    "# Make Train data set\n",
    "train_data = load_data.build_full_trainset()\n",
    "\n",
    "# Define a list of k values to test\n",
    "k_values = [2, 5, 10, 20, 50]\n",
    "\n",
    "for k in k_values:\n",
    "    # Create a user-based collaborative filtering model with the current k\n",
    "    model = KNNBaseline(\n",
    "    k=k,\n",
    "    bsl_options={\n",
    "        'method': 'sgd',\n",
    "        'n_epochs': 5,\n",
    "        'learning_rate': 0.00005,\n",
    "    },\n",
    "    sim_options={\n",
    "        'name': 'pearson_baseline',\n",
    "        'user_based': False,\n",
    "    },\n",
    "    verbose=False\n",
    ")\n",
    "\n",
    "    # Fit the model on the training data\n",
    "    model.fit(train_data)\n",
    "\n",
    "    # Generate recommendations for the rated movies of the target user\n",
    "    for movie_id, actual_rating in target_user_rated_movies:\n",
    "        estimated_rating = model.predict(target_user, movie_id).est\n",
    "        recommendations.append(estimated_rating)\n",
    "        actual_ratings.append(actual_rating)\n",
    "\n",
    "    # Calculate RMSE for this user and the current k\n",
    "    rmse = (sum([(actual - estimated) ** 2 for actual, estimated in zip(actual_ratings, recommendations)])) / (len(recommendations) + EPSILON)\n",
    "    rmse = np.sqrt(rmse)\n",
    " \n",
    "    # Print the k and RMSE\n",
    "    print(f'Number of Neighbors (k): {k}')\n",
    "    print(f'Root Mean Squared Error (RMSE): {rmse:.4f}')\n",
    "    print('\\n')"
   ]
  },
  {
   "cell_type": "markdown",
   "metadata": {},
   "source": [
    "### Task 3.2"
   ]
  },
  {
   "cell_type": "code",
   "execution_count": 10,
   "metadata": {},
   "outputs": [],
   "source": [
    "# Step 1: Filter users who have rated more than 100 movies\n",
    "user_ratings_count = ratings_df['user_id'].value_counts()\n",
    "active_users = user_ratings_count[user_ratings_count > 100].index.tolist()"
   ]
  },
  {
   "cell_type": "code",
   "execution_count": 11,
   "metadata": {},
   "outputs": [
    {
     "data": {
      "text/plain": [
       "array([ 150,  877, 3885,  398, 1211])"
      ]
     },
     "execution_count": 11,
     "metadata": {},
     "output_type": "execute_result"
    }
   ],
   "source": [
    "# Step 2: Randomly select 5 users from the list of active users\n",
    "random_users = np.random.choice(active_users, 5, replace=False)\n",
    "random_users"
   ]
  },
  {
   "cell_type": "code",
   "execution_count": 12,
   "metadata": {},
   "outputs": [],
   "source": [
    "train_df = ratings_df[~ratings_df['user_id'].isin(random_users)]"
   ]
  },
  {
   "cell_type": "markdown",
   "metadata": {},
   "source": [
    "### MovieAvg"
   ]
  },
  {
   "cell_type": "code",
   "execution_count": 13,
   "metadata": {},
   "outputs": [],
   "source": [
    "# Step 3: Calculate the top 30 movies based on average ratings\n",
    "# Group the data by movie, calculate the average rating, and count the number of ratings for each movie\n",
    "movie_ratings = train_df.groupby('movie_id')['rating'].agg(['mean', 'count']).reset_index()\n",
    "\n",
    "# Sort the movies by average rating in descending order and then by the count of ratings in descending order\n",
    "top_30_movies = movie_ratings.sort_values(by=['mean', 'count'], ascending=[False, False]).head(30)"
   ]
  },
  {
   "cell_type": "code",
   "execution_count": 14,
   "metadata": {},
   "outputs": [
    {
     "name": "stdout",
     "output_type": "stream",
     "text": [
      "Average Precision: 0.15\n",
      "NDCG: 0.49\n"
     ]
    }
   ],
   "source": [
    "average_precisions = {}\n",
    "ndcg_values = {}\n",
    "\n",
    "recommended = top_30_movies['movie_id'].values\n",
    "\n",
    "for user in random_users:\n",
    "    # Filter out movies that the user has already rated \n",
    "    user_ratings = ratings_df[ratings_df['user_id'] == user]\n",
    "    actual = user_ratings['movie_id'].values\n",
    "    y_true = [1 if item in actual else 0 for item in recommended]\n",
    "    \n",
    "    # Calculate AP\n",
    "    average_precisions[user] = average_precision_score(y_true, [1] * len(recommended)) #to make relevence as 1 for all\n",
    "    \n",
    "    # Calculate NDCG\n",
    "    ndcg = ndcg_score([y_true], [[1] * len(recommended)])\n",
    "    ndcg_values[user] = ndcg\n",
    "\n",
    "# Calculate the overall AP and NDCG\n",
    "mean_ap_movie_avg = sum(average_precisions.values()) / len(average_precisions)\n",
    "mean_ndcg_movie_avg = sum(ndcg_values.values()) / len(ndcg_values)\n",
    "\n",
    "print(\"Average Precision: {:.2f}\".format(mean_ap_movie_avg))\n",
    "print(\"NDCG: {:.2f}\".format(mean_ndcg_movie_avg))"
   ]
  },
  {
   "cell_type": "markdown",
   "metadata": {},
   "source": [
    "### KNNCF"
   ]
  },
  {
   "cell_type": "code",
   "execution_count": 15,
   "metadata": {},
   "outputs": [],
   "source": [
    "# Extract unique movie IDs from your data\n",
    "unique_movie_ids = ratings_df['movie_id'].unique()\n",
    "\n",
    "# Predict ratings for all movies for each user\n",
    "top_n = 30\n",
    "\n",
    "# Define the Reader object for Surprise\n",
    "reader = Reader(rating_scale=(1, 5))\n",
    "\n",
    "# Load the data into Surprise's Dataset object\n",
    "load_data = Dataset.load_from_df(train_df[['user_id', 'movie_id', 'rating']], reader)\n",
    "\n",
    "# Make Train data set\n",
    "train_data = load_data.build_full_trainset()"
   ]
  },
  {
   "cell_type": "code",
   "execution_count": 16,
   "metadata": {},
   "outputs": [
    {
     "name": "stdout",
     "output_type": "stream",
     "text": [
      "Mean Average Precision (MAP): 0.39999999999999997\n",
      "Mean NDCG (MNDCG): 0.7138183607871358\n"
     ]
    }
   ],
   "source": [
    "# Similarity measure configuration\n",
    "sim_options = {'name': 'cosine', 'user_based': True}\n",
    "\n",
    "# Create a user-based collaborative filtering model with the current k\n",
    "model = KNNBasic(k=5, sim_options=sim_options, verbose=False)\n",
    "\n",
    "# Fit the model on the training data\n",
    "model.fit(train_data)\n",
    "\n",
    "recommendations = {}  # Dictionary to store recommendations for each user\n",
    "\n",
    "for user_id in random_users:\n",
    "    all_movie_ids = unique_movie_ids.tolist()\n",
    "    user_data = [(user_id, movie_id, 0) for movie_id in all_movie_ids]\n",
    "    predictions = model.test(user_data)\n",
    "    user_recommendations = sorted(predictions, key=lambda x: x.est, reverse=True)\n",
    "\n",
    "    # Store the top 30 movie IDs in the recommendations dictionary\n",
    "    recommendations[user_id] = [prediction.iid for prediction in user_recommendations[:top_n]]\n",
    "    \n",
    "    \n",
    "# Ground truth data\n",
    "user_ratings = {}  # Dictionary to store actual ratings for each user\n",
    "user_aps = {}\n",
    "user_ndcgs = {}\n",
    "\n",
    "# Populate user_ratings with actual ratings for the randomly selected users\n",
    "for user_id in random_users:\n",
    "    user_ratings[user_id] = list(ratings_df[ratings_df['user_id'] == user_id]['movie_id'])\n",
    "    \n",
    "    ground_truth = user_ratings.get(user_id, [])\n",
    "    recommended = recommendations.get(user_id, [])\n",
    "    ap = average_precision_score([1 if movie_id in ground_truth else 0 for movie_id in recommended], [1] * len(recommended))\n",
    "    user_aps[user_id] = ap\n",
    "\n",
    "    # Calculate NDCG\n",
    "    ndcg = ndcg_score([[1 if movie_id in ground_truth else 0 for movie_id in recommended]], [[1] * len(recommended)])\n",
    "    user_ndcgs[user_id] = ndcg\n",
    "    \n",
    "\n",
    "# Calculate the Mean Average Precision (MAP)\n",
    "mean_ap_cosine = np.mean(list(user_aps.values()))\n",
    "\n",
    "# Calculate the Mean NDCG (MNDCG)\n",
    "mean_ndcg_cosine = np.mean(list(user_ndcgs.values()))\n",
    "\n",
    "# Print or store the Mean Average Precision (MAP) and Mean NDCG (MNDCG)\n",
    "print(f\"Mean Average Precision (MAP): {mean_ap_cosine}\")\n",
    "print(f\"Mean NDCG (MNDCG): {mean_ndcg_cosine}\")"
   ]
  },
  {
   "cell_type": "markdown",
   "metadata": {},
   "source": [
    "### Option1RecSys"
   ]
  },
  {
   "cell_type": "code",
   "execution_count": 17,
   "metadata": {},
   "outputs": [
    {
     "name": "stdout",
     "output_type": "stream",
     "text": [
      "Mean Average Precision (MAP): 0.7333333333333334\n",
      "Mean NDCG (MNDCG): 0.8945892329787478\n"
     ]
    }
   ],
   "source": [
    "#tuning hyperparameters\n",
    "model = KNNBaseline(\n",
    "    k=2,\n",
    "    bsl_options={\n",
    "        'method': 'sgd',\n",
    "        'n_epochs': 5,\n",
    "        'learning_rate': 0.00005,\n",
    "    },\n",
    "    sim_options={\n",
    "        'name': 'pearson_baseline',\n",
    "        'user_based': False,\n",
    "    },\n",
    "    verbose=False\n",
    ")\n",
    "\n",
    "\n",
    "model.fit(train_data)\n",
    "\n",
    "# Configure and create the KNNBaseline model\n",
    "recommendations = {}  # Dictionary to store recommendations for each user\n",
    "\n",
    "for user_id in random_users:\n",
    "    all_movie_ids = unique_movie_ids.tolist()\n",
    "    user_data = [(user_id, movie_id, 0) for movie_id in all_movie_ids]\n",
    "    predictions = model.test(user_data)\n",
    "    user_recommendations = sorted(predictions, key=lambda x: x.est, reverse=True)\n",
    "\n",
    "    # Store the top 30 movie IDs in the recommendations dictionary\n",
    "    recommendations[user_id] = [prediction.iid for prediction in user_recommendations[:top_n]]\n",
    "\n",
    "# Ground truth data \n",
    "user_ratings = {}  # Dictionary to store actual ratings for each user\n",
    "user_aps = {}\n",
    "user_ndcgs = {}\n",
    "\n",
    "# Populate user_ratings with actual ratings for the randomly selected users\n",
    "for user_id in random_users:\n",
    "    user_ratings[user_id] = list(ratings_df[ratings_df['user_id'] == user_id]['movie_id'])\n",
    "    \n",
    "    ground_truth = user_ratings.get(user_id, [])\n",
    "    recommended = recommendations.get(user_id, [])\n",
    "    ap = average_precision_score([1 if movie_id in ground_truth else 0 for movie_id in recommended], [1] * len(recommended))\n",
    "    user_aps[user_id] = ap\n",
    "\n",
    "    # Calculate NDCG\n",
    "    ndcg = ndcg_score([[1 if movie_id in ground_truth else 0 for movie_id in recommended]], [[1] * len(recommended)])\n",
    "    user_ndcgs[user_id] = ndcg\n",
    "\n",
    "# Calculate the Mean Average Precision (MAP)\n",
    "mean_ap_baseline = np.mean(list(user_aps.values()))\n",
    "\n",
    "# Calculate the Mean NDCG (MNDCG)\n",
    "mean_ndcg_baseline = np.mean(list(user_ndcgs.values()))\n",
    "\n",
    "# Print or store the Mean Average Precision (MAP) and Mean NDCG (MNDCG)\n",
    "print(f\"Mean Average Precision (MAP): {mean_ap_baseline}\")\n",
    "print(f\"Mean NDCG (MNDCG): {mean_ndcg_baseline}\")\n"
   ]
  },
  {
   "cell_type": "code",
   "execution_count": 18,
   "metadata": {},
   "outputs": [
    {
     "data": {
      "image/png": "[encoded data removed]",
      "text/plain": [
       "<Figure size 1000x500 with 1 Axes>"
      ]
     },
     "metadata": {},
     "output_type": "display_data"
    }
   ],
   "source": [
    "# Mean values for AP and NDCG for different methods\n",
    "mean_ap_values = [mean_ap_movie_avg, mean_ap_cosine, mean_ap_baseline]\n",
    "mean_ndcg_values = [mean_ndcg_movie_avg, mean_ndcg_cosine, mean_ndcg_baseline]\n",
    "\n",
    "# Methods for comparison\n",
    "methods = [\"MovieAvg\", \"KNNCF\", \"Option1RecSys\"]\n",
    "\n",
    "# Set the bar width\n",
    "bar_width = 0.35\n",
    "\n",
    "# Create an array for the x-axis positions\n",
    "x = np.arange(len(methods))\n",
    "\n",
    "# Create the bar chart for AP\n",
    "plt.figure(figsize=(10, 5))\n",
    "plt.bar(x - bar_width / 2, mean_ap_values, bar_width, label='AP', color='skyblue')\n",
    "\n",
    "# Create the bar chart for NDCG\n",
    "plt.bar(x + bar_width / 2, mean_ndcg_values, bar_width, label='NDCG', color='lightcoral')\n",
    "\n",
    "# Set the x-ticks and labels\n",
    "plt.xticks(x, methods)\n",
    "\n",
    "# Set the y-axis label\n",
    "plt.ylabel(\"Metrics Value\")\n",
    "\n",
    "# Set the title\n",
    "plt.title(\"AP and NDCG Comparison for Different Methods\")\n",
    "\n",
    "# Add a legend\n",
    "plt.legend()\n",
    "\n",
    "plt.ylim(0, 1)  # Set the y-axis range (0 to 1)\n",
    "plt.show()"
   ]
  }
 ],
 "metadata": {
  "colab": {
   "collapsed_sections": [],
   "name": "assignment1_TEMPLATE.ipynb",
   "provenance": [],
   "toc_visible": true
  },
  "kernelspec": {
   "display_name": "Python 3 (ipykernel)",
   "language": "python",
   "name": "python3"
  },
  "language_info": {
   "codemirror_mode": {
    "name": "ipython",
    "version": 3
   },
   "file_extension": ".py",
   "mimetype": "text/x-python",
   "name": "python",
   "nbconvert_exporter": "python",
   "pygments_lexer": "ipython3",
   "version": "3.11.4"
  }
 },
 "nbformat": 4,
 "nbformat_minor": 1
}
